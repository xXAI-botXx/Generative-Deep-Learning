{
 "cells": [
  {
   "cell_type": "markdown",
   "metadata": {},
   "source": [
    "# MD PixelCNN\n",
    "\n",
    "Mixture Distribution PixelCNN"
   ]
  },
  {
   "cell_type": "markdown",
   "metadata": {},
   "source": [
    "### Imports"
   ]
  },
  {
   "cell_type": "code",
   "execution_count": null,
   "metadata": {},
   "outputs": [],
   "source": [
    "import numpy as np\n",
    "import cv2\n",
    "import matplotlib.pyplot as plt\n",
    "\n",
    "import tensorflow as tf\n",
    "from tensorflow.keras import models, layers\n",
    "\n",
    "import tensorflow_probability as tfp"
   ]
  },
  {
   "cell_type": "markdown",
   "metadata": {},
   "source": [
    "### Helper"
   ]
  },
  {
   "cell_type": "code",
   "execution_count": null,
   "metadata": {},
   "outputs": [],
   "source": [
    "def get_hardware_info(use_in_notebook=True, install_packages=True):\n",
    "    import sys\n",
    "    import subprocess\n",
    "    import importlib.util\n",
    "    \n",
    "    if install_packages:\n",
    "        if importlib.util.find_spec(\"psutil\") is None:\n",
    "            subprocess.run([sys.executable, \"-m\", \"pip\", \"install\", \"psutil\"], check=True)\n",
    "        if importlib.util.find_spec(\"gputil\") is None:\n",
    "            subprocess.run([sys.executable, \"-m\", \"pip\", \"install\", \"gputil\"], check=True)\n",
    "        if importlib.util.find_spec(\"py-cpuinfo\") is None:\n",
    "            subprocess.run([sys.executable, \"-m\", \"pip\", \"install\", \"py-cpuinfo\"], check=True)\n",
    "\n",
    "    # import needed packages\n",
    "    import platform\n",
    "    import psutil\n",
    "    import GPUtil\n",
    "    from cpuinfo import get_cpu_info\n",
    "\n",
    "    if use_in_notebook:\n",
    "        if install_packages and importlib.util.find_spec(\"ipython\") is None:\n",
    "            subprocess.run([sys.executable, \"-m\", \"pip\", \"install\", \"ipython\"], check=True)\n",
    "\n",
    "        from IPython.display import clear_output\n",
    "        clear_output()\n",
    "    else:\n",
    "        pass\n",
    "        # os.system('cls' if os.name == 'nt' else 'clear')\n",
    "\n",
    "    print(\"-\"*32, \"\\nYour Hardware:\\n\")\n",
    "\n",
    "    # General\n",
    "    print(\"    ---> General <---\")\n",
    "    print(\"Operatingsystem:\", platform.system())\n",
    "    print(\"Version:\", platform.version())\n",
    "    print(\"Architecture:\", platform.architecture())\n",
    "    print(\"Processor:\", platform.processor())\n",
    "\n",
    "    # GPU-Information\n",
    "    print(\"\\n    ---> GPU <---\")\n",
    "    gpus = GPUtil.getGPUs()\n",
    "    for gpu in gpus:\n",
    "        print(\"GPU Name:\", gpu.name)\n",
    "        print(\"VRAM Total:\", gpu.memoryTotal, \"MB\")\n",
    "        print(\"VRAM Used:\", gpu.memoryUsed, \"MB\")\n",
    "        print(\"Utilization:\", gpu.load * 100, \"%\")\n",
    "\n",
    "    # CPU-Information\n",
    "    print(\"\\n    ---> CPU <---\")\n",
    "    cpu_info = get_cpu_info()\n",
    "    print(\"CPU-Name:\", cpu_info[\"brand_raw\"])\n",
    "    print(\"CPU Kernels:\", psutil.cpu_count(logical=False))\n",
    "    print(\"Logical CPU-Kernels:\", psutil.cpu_count(logical=True))\n",
    "    print(\"CPU-Frequence:\", psutil.cpu_freq().max, \"MHz\")\n",
    "    print(\"CPU-Utilization:\", psutil.cpu_percent(interval=1), \"%\")\n",
    "\n",
    "    # RAM-Information\n",
    "    print(\"\\n    ---> RAM <---\")\n",
    "    ram = psutil.virtual_memory()\n",
    "    print(\"RAM Total:\", ram.total // (1024**3), \"GB\")\n",
    "    print(\"RAM Available:\", ram.available // (1024**3), \"GB\")\n",
    "    print(\"RAM-Utilization:\", ram.percent, \"%\")\n",
    "\n",
    "    print(f\"\\n{'-'*32}\")\n",
    "\n",
    "\n",
    "\n",
    "get_hardware_info(use_in_notebook=True, install_packages=True)"
   ]
  },
  {
   "cell_type": "code",
   "execution_count": null,
   "metadata": {},
   "outputs": [],
   "source": [
    "import cv2\n",
    "\n",
    "def imshow(img, title=None, image_width=10, axis=False,\n",
    "           color_space=\"RGB\", cols=1, save_to=None,\n",
    "           hspace=0.2, wspace=0.2,\n",
    "           use_original_sytle=False, invert=False):\n",
    "    \"\"\"\n",
    "    Visualizes one or multiple images.\n",
    "\n",
    "    Image will be reshaped: [batch_size/images, width, height, channels]\n",
    "\n",
    "    title can be None, str or a list of strings.\n",
    "    \"\"\"\n",
    "    import cv2\n",
    "\n",
    "    original_style = plt.rcParams.copy()\n",
    "\n",
    "    img_shape = img.shape\n",
    "    print(f\"Got images with shape: {img_shape}\")\n",
    "\n",
    "    # tranform the image to the right form\n",
    "    if len(img_shape) == 2:\n",
    "        img = np.reshape(img, shape=(1, img.shape[0], img.shape[1], 1))\n",
    "    elif len(img_shape) == 3:\n",
    "        # check if multiple gray images or multiple images with channel\n",
    "        if img.shape[2] < img.shape[0] and img.shape[1] == img.shape[2]:\n",
    "            img = np.reshape(img, shape=(1, img.shape[0], img.shape[1], img.shape[3]))\n",
    "        else:\n",
    "            # there could be cases where this is wrong\n",
    "            img = np.reshape(img, shape=(img.shape[0], img.shape[1], img.shape[3], 1))\n",
    "        img = np.reshape(img, shape=(1, img.shape[0], img.shape[1], 1))\n",
    "    elif len(img_shape) != 4:\n",
    "        raise ValueError(f\"Image(s) have wrong shape! Founded shape: {img.shape}.\")\n",
    "\n",
    "    print(f\"Transformed shape to: {img_shape}\")\n",
    "\n",
    "    # invert images\n",
    "    if invert:\n",
    "        print(\"Invert images...\")\n",
    "        max_value = 2**(img.dtype.itemsize * 8) -1\n",
    "        scaling_func = lambda x: max_value - x\n",
    "        img = np.apply_along_axis(scaling_func, axis=0, arr=img)\n",
    "\n",
    "    # Set visualization settings\n",
    "    # aspect_ratio_width = img.shape[1] / img.shape[2]\n",
    "    aspect_ratio = img.shape[2] / img.shape[1]\n",
    "\n",
    "    n_images = img.shape[0]\n",
    "    rows = n_images//cols + int(n_images % cols > 0)\n",
    "\n",
    "    width = int(image_width * cols)\n",
    "    height = int(image_width * rows * aspect_ratio)\n",
    "\n",
    "    # set plt style\n",
    "    if not use_original_sytle:\n",
    "        plt_style = 'seaborn-v0_8' if 'seaborn-v0_8' in plt.style.available else np.random.choice(plt.style.available)\n",
    "        plt.style.use(plt_style)\n",
    "        print(f\"Using '{plt_style}'' plotting style.\")\n",
    "\n",
    "    # plotting\n",
    "    print(f\"Making you a beautiful plot...\")\n",
    "    fig, ax = plt.subplots(nrows=rows, ncols=cols, figsize=(width, height))\n",
    "    ax = ax.ravel()\n",
    "    fig.subplots_adjust(hspace=hspace, wspace=wspace)\n",
    "    if type(title) == str:\n",
    "        fig.suptitle(title, fontsize=128, y=0.95)\n",
    "\n",
    "    for idx in range(len(ax)):\n",
    "        cur_ax = ax[idx]\n",
    "\n",
    "        if idx >= len(img):\n",
    "            cur_ax.axis(\"off\")\n",
    "            continue\n",
    "\n",
    "        cur_img = img[idx]\n",
    "\n",
    "        if color_space.lower() == \"bgr\":\n",
    "            cur_img = cv2.cvtColor(cur_img, cv2.COLOR_BGR2RGB)\n",
    "            cmap = None\n",
    "        elif color_space.lower() == \"rgb\":\n",
    "            cur_img = cur_img\n",
    "            cmap = None\n",
    "        elif color_space.lower() == \"hsv\":\n",
    "            cur_img = cv2.cvtColor(cur_img, cv2.COLOR_HSV2RGB)\n",
    "            cmap = None\n",
    "        elif color_space.lower() in [\"gray\", \"grey\", \"g\"]:\n",
    "            cur_img = cur_img\n",
    "            cmap = \"gray\"\n",
    "\n",
    "        cur_ax.imshow(cur_img, cmap=cmap)\n",
    "\n",
    "        if type(title) in [list, tuple]:\n",
    "            cur_ax.set_title(title[idx], fontsize=64)\n",
    "        if axis == False:\n",
    "            cur_ax.axis(\"off\")\n",
    "\n",
    "    if save_to:\n",
    "        os.makedirs(os.path.split(save_to)[0], exist_ok=True)\n",
    "        fig.savefig(save_to, dpi=300)\n",
    "\n",
    "    plt.show()\n",
    "\n",
    "    if not use_original_sytle:\n",
    "        # reset to original plt style\n",
    "        plt.rcParams.update(original_style)"
   ]
  },
  {
   "cell_type": "code",
   "execution_count": null,
   "metadata": {},
   "outputs": [],
   "source": [
    "def get_cur_date_time_as_str():\n",
    "    now = datetime.now()\n",
    "    return f\"{now.year:04}-{now.month:02}-{now.day:02}_{now.hour:02}-{now.minute:02}-{now.second:02}\"\n",
    "\n",
    "get_cur_date_time_as_str()"
   ]
  },
  {
   "cell_type": "code",
   "execution_count": null,
   "metadata": {},
   "outputs": [],
   "source": [
    "EXPERIMENT_NAME = get_cur_date_time_as_str() + \"_MDPixelCNN\"\n",
    "LOG_DIR = \"./logs/fit/\" + get_cur_date_time_as_str()\n",
    "\n",
    "EPOCHS = 300\n",
    "BATCH_SIZE = 128\n",
    "IMAGE_SIZE = 32\n",
    "N_COMPONENTS = 5\n",
    "\n",
    "os.makedirs(f\"./logs\", exist_ok=True)\n",
    "os.makedirs(f\"./checkpoints\", exist_ok=True)\n",
    "os.makedirs(f\"./models/{EXPERIMENT_NAME}\", exist_ok=True)\n",
    "os.makedirs(LOG_DIR, exist_ok=True)\n",
    "os.makedirs(\"./output/\", exist_ok=True)"
   ]
  },
  {
   "cell_type": "markdown",
   "metadata": {},
   "source": [
    "### Data Loading & Prep"
   ]
  },
  {
   "cell_type": "code",
   "execution_count": null,
   "metadata": {},
   "outputs": [],
   "source": [
    "(X_train, _), (_, _) = tf.keras.datasets.fashion_mnist.load_data()"
   ]
  },
  {
   "cell_type": "code",
   "execution_count": null,
   "metadata": {},
   "outputs": [],
   "source": [
    "def preprocess(imgs):\n",
    "    imgs = np.expand_dims(imgs, -1)\n",
    "    imgs = tf.image.resize(imgs, (IMAGE_SIZE, IMAGE_SIZE)).numpy()\n",
    "    return imgs\n",
    "\n",
    "\n",
    "input_data = preprocess(X_train)"
   ]
  },
  {
   "cell_type": "code",
   "execution_count": null,
   "metadata": {},
   "outputs": [],
   "source": [
    "imshow(input_data[1])"
   ]
  },
  {
   "cell_type": "markdown",
   "metadata": {},
   "source": [
    "### AI model"
   ]
  },
  {
   "cell_type": "code",
   "execution_count": null,
   "metadata": {},
   "outputs": [],
   "source": [
    "dist = tfp.distributions.PixelCNN(\n",
    "    image_shape=(32, 32, 1),\n",
    "    num_resnet=1,\n",
    "    num_hierarchies=2,\n",
    "    num_filters=32,\n",
    "    num_logistic_mix=5,\n",
    "    dropout_p=0.3\n",
    ")"
   ]
  },
  {
   "cell_type": "code",
   "execution_count": null,
   "metadata": {},
   "outputs": [],
   "source": [
    "img_input = layers.Input(shape=(32, 32, 1))\n",
    "log_prob = dist.log_prob(img_input)\n",
    "\n",
    "model = models.Model(inputs=img_input, outputs=log_prob)\n",
    "model.add_loss(-tf.reduce_mean(log_prob))"
   ]
  },
  {
   "cell_type": "code",
   "execution_count": null,
   "metadata": {},
   "outputs": [],
   "source": [
    "# Callbacks\n",
    "model_checkpoint_callback = tf.keras.callbacks.ModelCheckpoint(\n",
    "    filepath=\"./checkpoint/checkpoint.keras\",\n",
    "    save_weights_only=False,\n",
    "    save_freq=\"epoch\",\n",
    "    verbose=0,\n",
    ")\n",
    "\n",
    "tensorboard_callback = tf.keras.callbacks.TensorBoard(log_dir=\"./logs\")\n",
    "\n",
    "\n",
    "class ImageGenerator(tf.keras.callbacks.Callback):\n",
    "    def __init__(self, num_img):\n",
    "        self.num_img = num_img\n",
    "\n",
    "    def generate(self):\n",
    "        return dist.sample(self.num_img).numpy()\n",
    "\n",
    "    def on_epoch_end(self, epoch, logs=None):\n",
    "        generated_images = self.generate()\n",
    "        imshow(\n",
    "            generated_images,\n",
    "            cols=self.num_img//2,\n",
    "            save_to=f\"./output/generated_img_{epoch:03}.png\",\n",
    "            color_space=\"gray\",\n",
    "            invert=True,\n",
    "            title=f\"Generations on Epoch: {epoch:03d}\"\n",
    "        )\n",
    "img_generator_callback = ImageGenerator(num_img=10)"
   ]
  },
  {
   "cell_type": "markdown",
   "metadata": {},
   "source": [
    "### Training"
   ]
  },
  {
   "cell_type": "code",
   "execution_count": null,
   "metadata": {},
   "outputs": [],
   "source": [
    "optimizer = tf.keras.optimizers.Adam(learning_rate=5e-4)\n",
    "\n",
    "model.compile(optimizer=optimizer)\n",
    "model.fit(\n",
    "    input_data, \n",
    "    epochs=EPOCHS,\n",
    "    batch_size=BATCH_SIZE,\n",
    "    verbose=True,\n",
    "    callbacks=[\n",
    "        model_checkpoint_callback, \n",
    "        tensorboard_callback,\n",
    "        img_generator_callback])"
   ]
  },
  {
   "cell_type": "markdown",
   "metadata": {},
   "source": [
    "### Generate "
   ]
  },
  {
   "cell_type": "code",
   "execution_count": null,
   "metadata": {},
   "outputs": [],
   "source": [
    "generated_images = img_generator_callback.generate()\n",
    "\n",
    "imshow(\n",
    "    generated_images,\n",
    "    cols=5,\n",
    "    save_to=None,\n",
    "    color_space=\"gray\",\n",
    "    invert=True,\n",
    "    title=f\"Generations\"\n",
    ")"
   ]
  }
 ],
 "metadata": {
  "kernelspec": {
   "display_name": "gen",
   "language": "python",
   "name": "python3"
  },
  "language_info": {
   "name": "python",
   "version": "3.11.11"
  }
 },
 "nbformat": 4,
 "nbformat_minor": 2
}
